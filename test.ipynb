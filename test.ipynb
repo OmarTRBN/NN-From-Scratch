{
 "cells": [
  {
   "cell_type": "code",
   "execution_count": 5,
   "metadata": {},
   "outputs": [],
   "source": [
    "import numpy as np"
   ]
  },
  {
   "cell_type": "code",
   "execution_count": 6,
   "metadata": {},
   "outputs": [],
   "source": [
    "a=[2, 6, 3, 1]\n"
   ]
  },
  {
   "cell_type": "code",
   "execution_count": 7,
   "metadata": {},
   "outputs": [
    {
     "data": {
      "text/plain": [
       "[6, 3]"
      ]
     },
     "execution_count": 7,
     "metadata": {},
     "output_type": "execute_result"
    }
   ],
   "source": [
    "a[1:-1]"
   ]
  },
  {
   "cell_type": "code",
   "execution_count": 8,
   "metadata": {},
   "outputs": [],
   "source": [
    "import nn_omar as idiot"
   ]
  },
  {
   "cell_type": "code",
   "execution_count": 9,
   "metadata": {},
   "outputs": [
    {
     "name": "stdout",
     "output_type": "stream",
     "text": [
      "4\n"
     ]
    }
   ],
   "source": [
    "a = [2,2,3,1]\n",
    "print(len(a))"
   ]
  },
  {
   "cell_type": "code",
   "execution_count": 10,
   "metadata": {},
   "outputs": [
    {
     "name": "stdout",
     "output_type": "stream",
     "text": [
      "idiot\n",
      "idiot\n",
      "idiot\n"
     ]
    }
   ],
   "source": [
    "for i in range(len(a)-1):\n",
    "    print(\"idiot\")"
   ]
  },
  {
   "cell_type": "code",
   "execution_count": 11,
   "metadata": {},
   "outputs": [
    {
     "data": {
      "text/plain": [
       "{'W1': array([[-0.01130771,  0.00507448],\n",
       "        [ 0.00833923,  0.01307732]]),\n",
       " 'b1': array([[0.],\n",
       "        [0.]]),\n",
       " 'W2': array([[ 0.01821269,  0.01990681, -0.00510175],\n",
       "        [-0.00417803, -0.00795451,  0.00093871]]),\n",
       " 'b2': array([[0.],\n",
       "        [0.],\n",
       "        [0.]]),\n",
       " 'W3': array([[ 0.00239363],\n",
       "        [-0.00128565],\n",
       "        [ 0.00479559]]),\n",
       " 'b3': array([[0.]])}"
      ]
     },
     "execution_count": 11,
     "metadata": {},
     "output_type": "execute_result"
    }
   ],
   "source": [
    "idiot.initialize_parameters(a)"
   ]
  },
  {
   "cell_type": "code",
   "execution_count": 22,
   "metadata": {},
   "outputs": [],
   "source": [
    "def sigmoid(x):\n",
    "    y = 1/(1+np.exp(-x))\n",
    "    return y"
   ]
  },
  {
   "cell_type": "code",
   "execution_count": 29,
   "metadata": {},
   "outputs": [],
   "source": [
    "def feedforward(structure, activations, parameters, Xin):\n",
    "    cache = {}\n",
    "    cache[\"Z1\"] = np.dot(parameters[\"W1\"].T, Xin) + \\\n",
    "                        parameters[\"b1\"]  # Z = W'.X + b\n",
    "    cache[\"A1\"] = activations[0](cache[\"Z1\"])\n",
    "    for i in range(len(structure[1:])-1):\n",
    "        cache[f\"Z{i+2}\"] = np.dot(parameters[f\"W{i+2}\"].T,\n",
    "                                    cache[f\"A{i+1}\"]) + parameters[f\"b{i+2}\"]\n",
    "        # Z = W'A + b\n",
    "        cache[f\"A{i+2}\"] = activations[i+1](cache[f\"Z{i+2}\"])\n",
    "    return cache\n"
   ]
  },
  {
   "cell_type": "code",
   "execution_count": 32,
   "metadata": {},
   "outputs": [
    {
     "data": {
      "text/plain": [
       "array([[1, 4, 2, 2, 2],\n",
       "       [1, 3, 2, 1, 2]])"
      ]
     },
     "execution_count": 32,
     "metadata": {},
     "output_type": "execute_result"
    }
   ],
   "source": [
    "test_params = {'W1': np.array([[-0.01130771,  0.00507448],\n",
    "                            [0.00833923,  0.01307732]]),\n",
    "               'b1': np.array([[0.],\n",
    "                            [0.]]),\n",
    "               'W2': np.array([[0.01821269,  0.01990681, -0.00510175],\n",
    "                            [-0.00417803, -0.00795451,  0.00093871]]),\n",
    "               'b2': np.array([[0.],\n",
    "                            [0.],\n",
    "                            [0.]]),\n",
    "               'W3': np.array([[0.00239363],\n",
    "                            [-0.00128565],\n",
    "                            [0.00479559]]),\n",
    "               'b3': np.array([[0.]])}\n",
    "test_struct = [2,2,3,1]\n",
    "test_acts = [sigmoid] * 3\n",
    "test_inputs = np.array([[1,4,2,2,2], [1,3,2,1,2]])\n",
    "test_inputs"
   ]
  },
  {
   "cell_type": "code",
   "execution_count": 33,
   "metadata": {},
   "outputs": [
    {
     "name": "stdout",
     "output_type": "stream",
     "text": [
      "{'Z1': array([[-0.00296848, -0.02021315, -0.00593696, -0.01427619, -0.00593696],\n",
      "       [ 0.0181518 ,  0.05952988,  0.0363036 ,  0.02322628,  0.0363036 ]]), 'A1': array([[0.49925788, 0.49494688, 0.49851576, 0.49643101, 0.49851576],\n",
      "       [0.50453783, 0.51487808, 0.5090749 , 0.50580631, 0.5090749 ]]), 'Z2': array([[ 0.00698485,  0.00686314,  0.00695238,  0.00692807,  0.00695238],\n",
      "       [ 0.00592528,  0.00575721,  0.00587442,  0.00585892,  0.00587442],\n",
      "       [-0.00207347, -0.00204177, -0.00206543, -0.00205786, -0.00206543]]), 'A2': array([[0.50174621, 0.50171578, 0.50173809, 0.50173201, 0.50173809],\n",
      "       [0.50148132, 0.5014393 , 0.5014686 , 0.50146472, 0.5014686 ],\n",
      "       [0.49948163, 0.49948956, 0.49948364, 0.49948553, 0.49948364]]), 'Z3': array([[0.00295157, 0.00295159, 0.00295158, 0.00295158, 0.00295158]]), 'A3': array([[0.50073789, 0.5007379 , 0.50073789, 0.50073789, 0.50073789]])}\n"
     ]
    }
   ],
   "source": [
    "result = feedforward(test_struct, test_acts, test_params, test_inputs)\n",
    "print(result)"
   ]
  },
  {
   "cell_type": "code",
   "execution_count": null,
   "metadata": {},
   "outputs": [],
   "source": []
  },
  {
   "cell_type": "code",
   "execution_count": null,
   "metadata": {},
   "outputs": [],
   "source": []
  }
 ],
 "metadata": {
  "kernelspec": {
   "display_name": "base",
   "language": "python",
   "name": "python3"
  },
  "language_info": {
   "codemirror_mode": {
    "name": "ipython",
    "version": 3
   },
   "file_extension": ".py",
   "mimetype": "text/x-python",
   "name": "python",
   "nbconvert_exporter": "python",
   "pygments_lexer": "ipython3",
   "version": "3.9.13"
  },
  "orig_nbformat": 4
 },
 "nbformat": 4,
 "nbformat_minor": 2
}
